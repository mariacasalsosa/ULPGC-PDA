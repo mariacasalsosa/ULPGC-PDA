{
 "cells": [
  {
   "cell_type": "markdown",
   "id": "145747c4-aee1-4f6d-a92d-6645e9498b35",
   "metadata": {
    "tags": []
   },
   "source": [
    "# Prueba 1\n",
    "\n",
    "Esta es una prueba que hicimos en clase.\n",
    "> Me encanta *Python*, me gusta porque:\n",
    "- Es gratuito\n",
    "- Y potente"
   ]
  },
  {
   "cell_type": "code",
   "execution_count": 6,
   "id": "be6aad3b-dd1a-424f-bcde-90c3c391dc38",
   "metadata": {},
   "outputs": [
    {
     "name": "stdout",
     "output_type": "stream",
     "text": [
      "<class 'module'>\n"
     ]
    }
   ],
   "source": [
    "from PIL import Image\n",
    "\n",
    "print(type(Image)) # Objeto de clase module\n"
   ]
  },
  {
   "cell_type": "code",
   "execution_count": 7,
   "id": "7fc41f66-caa0-45db-8eb2-ac2a736a02f9",
   "metadata": {},
   "outputs": [
    {
     "name": "stdout",
     "output_type": "stream",
     "text": [
      "<class 'str'>\n",
      "1760932970624\n",
      "<class 'PIL.PngImagePlugin.PngImageFile'>\n",
      "1760929218960\n"
     ]
    }
   ],
   "source": [
    "file = 'images/chinche_L.png'\n",
    "print(type(file))\n",
    "print(id(file))\n",
    "\n",
    "img  = Image.open(file)\n",
    "print(type(img))\n",
    "print(id(img))"
   ]
  },
  {
   "cell_type": "code",
   "execution_count": null,
   "id": "f3d66068-cf88-47ca-a98e-3299c96127ae",
   "metadata": {},
   "outputs": [],
   "source": []
  }
 ],
 "metadata": {
  "kernelspec": {
   "display_name": "Python 3 (ipykernel)",
   "language": "python",
   "name": "python3"
  },
  "language_info": {
   "codemirror_mode": {
    "name": "ipython",
    "version": 3
   },
   "file_extension": ".py",
   "mimetype": "text/x-python",
   "name": "python",
   "nbconvert_exporter": "python",
   "pygments_lexer": "ipython3",
   "version": "3.9.12"
  }
 },
 "nbformat": 4,
 "nbformat_minor": 5
}
